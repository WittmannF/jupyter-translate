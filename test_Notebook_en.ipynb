{
  "cells": [
    {
      "cell_type": "markdown",
      "id": "52e956c0",
      "metadata": {},
      "source": [
        "# Introduction to Python\n",
        "\n",
        "This notebook will guide you through the basics of Python programming. We'll explore variables, data types, lists, loops, and functions."
      ]
    },
    {
      "cell_type": "markdown",
      "id": "1df54aba",
      "metadata": {},
      "source": [
        "## 1. Variables and Data Types\n",
        "\n",
        "In Python, we can store data in variables. Variables can contain different types of data, such as integers, floats (decimal numbers), strings (text), and booleans (true or false)."
      ]
    },
    {
      "cell_type": "code",
      "execution_count": null,
      "id": "7f322fd0",
      "metadata": {},
      "outputs": [],
      "source": [
        "# Declaring variables of different types\n",
        "idade = 25  # Whole\n",
        "altura = 1.75  # Float\n",
        "nome = \"João\"  # String\n",
        "estudante = True  # Boolean\n",
        "\n",
        "# Printing variable values\n",
        "print(f\"Age: {age} years\")\n",
        "print(f\"Height: {height} meters\")\n",
        "print(f\"Name: {name}\")\n",
        "print(f\"Student: {student}\")"
      ]
    },
    {
      "cell_type": "markdown",
      "id": "b8ab2192",
      "metadata": {},
      "source": [
        "## 2. Mathematical Operations\n",
        "\n",
        "Python allows you to perform basic mathematical operations, such as addition, subtraction, multiplication, and division."
      ]
    },
    {
      "cell_type": "code",
      "execution_count": null,
      "id": "f9f46509",
      "metadata": {},
      "outputs": [],
      "source": [
        "# Performing mathematical operations\n",
        "a = 10\n",
        "b = 3\n",
        "\n",
        "soma = a + b  # Addition\n",
        "subtracao = a - b  # Subtraction\n",
        "multiplicacao = a * b  # Multiplication\n",
        "divisao = a / b  # Division\n",
        "\n",
        "# Printing the results\n",
        "print(f\"Soma: {soma}\")\n",
        "print(f\"Subtraction: {subtraction}\")\n",
        "print(f\"Multiplication: {multiplication}\")\n",
        "print(f\"Division: {division}\")"
      ]
    },
    {
      "cell_type": "markdown",
      "id": "5db1f397",
      "metadata": {},
      "source": [
        "## 3. Lists\n",
        "\n",
        "A list is a collection of items that can store multiple values ​​in a single variable. Lists are very useful for storing sequences of data."
      ]
    },
    {
      "cell_type": "code",
      "execution_count": null,
      "id": "d6130bd9",
      "metadata": {},
      "outputs": [],
      "source": [
        "# Creating a fruit list\n",
        "frutas = [\"maçã\", \"banana\", \"laranja\", \"uva\"]\n",
        "\n",
        "# Adding an item to the list\n",
        "frutas.append(\"manga\")\n",
        "\n",
        "# Printing the list\n",
        "print(\"Lista de frutas:\", frutas)\n",
        "\n",
        "# Accessing a specific item\n",
        "print(\"Primeira fruta da lista:\", frutas[0])  # Index starts at 0"
      ]
    },
    {
      "cell_type": "markdown",
      "id": "ed742e3b",
      "metadata": {},
      "source": [
        "## 4. Loops\n",
        "\n",
        "Loops allow you to execute a series of commands repeatedly. The `for` loop in Python is often used to iterate over a sequence (such as a list or string)."
      ]
    },
    {
      "cell_type": "code",
      "execution_count": null,
      "id": "777d5025",
      "metadata": {},
      "outputs": [],
      "source": [
        "# Using a for loop to iterate over a list\n",
        "for fruta in frutas:\n",
        "print(f\"Fruit: {fruit}\")"
      ]
    },
    {
      "cell_type": "markdown",
      "id": "51fc3faf",
      "metadata": {},
      "source": [
        "## 5. Functions\n",
        "\n",
        "Functions are reusable blocks of code that perform a specific task. You can define your own functions in Python using the `def` keyword."
      ]
    },
    {
      "cell_type": "code",
      "execution_count": null,
      "id": "e8510327",
      "metadata": {},
      "outputs": [],
      "source": [
        "# Defining a function that adds two numbers\n",
        "def soma_numeros(x, y):\n",
        "    return x + y\n",
        "\n",
        "# Using the function\n",
        "resultado = soma_numeros(10, 5)\n",
        "print(f\"Sum result: {result}\")"
      ]
    }
  ],
  "metadata": {
    "kernelspec": {
      "display_name": "Python 3 (ipykernel)",
      "language": "python",
      "name": "python3"
    },
    "language_info": {
      "codemirror_mode": {
        "name": "ipython",
        "version": 3
      },
      "file_extension": ".py",
      "mimetype": "text/x-python",
      "name": "python",
      "nbconvert_exporter": "python",
      "pygments_lexer": "ipython3",
      "version": "3.12.5"
    }
  },
  "nbformat": 4,
  "nbformat_minor": 5
}
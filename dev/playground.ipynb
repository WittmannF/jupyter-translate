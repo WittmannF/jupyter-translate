{
 "nbformat": 4,
 "nbformat_minor": 0,
 "metadata": {
  "colab": {
   "name": "Jupyter Translate Playground.ipynb",
   "provenance": [],
   "include_colab_link": true
  },
  "kernelspec": {
   "name": "python3",
   "display_name": "Python 3"
  }
 },
 "cells": [
  {
   "cell_type": "markdown",
   "metadata": {
    "id": "view-in-github",
    "colab_type": "text"
   },
   "source": [
    "<a href=\"https://colab.research.google.com/github/WittmannF/jupyter-translate/blob/master/playground.ipynb\" target=\"_parent\"><img src=\"https://colab.research.google.com/assets/colab-badge.svg\" alt=\"Open In Colab\"/></a>"
   ]
  },
  {
   "cell_type": "markdown",
   "metadata": {
    "id": "206hSyHgdAdB",
    "colab_type": "text"
   },
   "source": [
    "## Test `translate_markdown`"
   ]
  },
  {
   "cell_type": "code",
   "metadata": {
    "id": "kXE_2A0mgiwr",
    "colab_type": "code",
    "colab": {
     "base_uri": "https://localhost:8080/",
     "height": 170
    },
    "outputId": "564c1701-04c9-4eee-966c-72ca2f7201b5"
   },
   "source": [
    "!pip install fire\n",
    "!pip install googletrans"
   ],
   "execution_count": 16,
   "outputs": [
    {
     "output_type": "stream",
     "text": [
      "Requirement already satisfied: fire in /usr/local/lib/python3.6/dist-packages (0.2.1)\n",
      "Requirement already satisfied: termcolor in /usr/local/lib/python3.6/dist-packages (from fire) (1.1.0)\n",
      "Requirement already satisfied: six in /usr/local/lib/python3.6/dist-packages (from fire) (1.12.0)\n",
      "Requirement already satisfied: googletrans in /usr/local/lib/python3.6/dist-packages (2.4.0)\n",
      "Requirement already satisfied: requests in /usr/local/lib/python3.6/dist-packages (from googletrans) (2.21.0)\n",
      "Requirement already satisfied: chardet<3.1.0,>=3.0.2 in /usr/local/lib/python3.6/dist-packages (from requests->googletrans) (3.0.4)\n",
      "Requirement already satisfied: certifi>=2017.4.17 in /usr/local/lib/python3.6/dist-packages (from requests->googletrans) (2019.9.11)\n",
      "Requirement already satisfied: urllib3<1.25,>=1.21.1 in /usr/local/lib/python3.6/dist-packages (from requests->googletrans) (1.24.3)\n",
      "Requirement already satisfied: idna<2.9,>=2.5 in /usr/local/lib/python3.6/dist-packages (from requests->googletrans) (2.8)\n"
     ],
     "name": "stdout"
    }
   ]
  },
  {
   "cell_type": "code",
   "metadata": {
    "id": "AeIqnXmHdE0g",
    "colab_type": "code",
    "colab": {}
   },
   "source": [
    "#export\n",
    "import json, re\n",
    "from googletrans import Translator\n",
    "\n",
    "def translate_markdown(text, dest_language='pt'):\n",
    "    # Regex expressions\n",
    "    MD_CODE_REGEX='```[a-z]*\\n[\\s\\S]*?\\n```'\n",
    "    CODE_REPLACEMENT_KW = 'xx_markdown_code_xx'\n",
    "\n",
    "    MD_LINK_REGEX=\"\\[[^)]+\\)\"\n",
    "    LINK_REPLACEMENT_KW = 'xx_markdown_link_xx'\n",
    "    \n",
    "    # Markdown tags\n",
    "    END_LINE='\\n'\n",
    "    IMG_PREFIX='!['\n",
    "    HEADERS=['### ', '###', '## ', '##', '# ', '#'] # Should be from this order (bigger to smaller)\n",
    "\n",
    "     # Inner function to replace tags from text from a source list        \n",
    "    def replace_from_list(tag, text, replacement_list):\n",
    "        list_to_gen = lambda: [(yield x) for x in replacement_list]\n",
    "        replacement_gen = list_to_gen()\n",
    "        return re.sub(tag, lambda x: next(replacement_gen), text) \n",
    "\n",
    "    # Create an instance of Tranlator\n",
    "    translator = Translator()\n",
    "\n",
    "    # Inner function for translation\n",
    "    def translate(text):\n",
    "        # Get all markdown links\n",
    "        md_links = re.findall(MD_LINK_REGEX, text)\n",
    "\n",
    "        # Get all markdown code blocks\n",
    "        md_codes = re.findall(MD_CODE_REGEX, text)\n",
    "\n",
    "        # Replace markdown links in text to markdown_link\n",
    "        text = re.sub(MD_LINK_REGEX, LINK_REPLACEMENT_KW, text)\n",
    "\n",
    "        # Replace links in markdown to tag markdown_link\n",
    "        text = re.sub(MD_CODE_REGEX, CODE_REPLACEMENT_KW, text)\n",
    "\n",
    "        # Translate text\n",
    "        text = translator.translate(text, dest=dest_language).text\n",
    "\n",
    "        # Replace tags to original link tags\n",
    "        text = replace_from_list(LINK_REPLACEMENT_KW, text, md_links)\n",
    "        \n",
    "        # Replace code tags\n",
    "        text = replace_from_list(CODE_REPLACEMENT_KW, text, md_codes)\n",
    "\n",
    "        return text    \n",
    "\n",
    "    # Check if there are special Markdown tags\n",
    "    # TODO: Implent `code tag` and [link tag]() checker\n",
    "    if len(text)>=2:\n",
    "        if text[-1:]==END_LINE:\n",
    "            return translate(text)+'\\n'\n",
    "\n",
    "        if text[:2]==IMG_PREFIX:\n",
    "            return text\n",
    "\n",
    "        for header in HEADERS:\n",
    "            len_header=len(header)\n",
    "            if text[:len_header]==header:\n",
    "                return header + translate(text[len_header:])\n",
    "        \n",
    "    return translate(text)"
   ],
   "execution_count": 0,
   "outputs": []
  },
  {
   "cell_type": "code",
   "metadata": {
    "id": "MTN_KHjpgYpf",
    "colab_type": "code",
    "colab": {
     "base_uri": "https://localhost:8080/",
     "height": 275
    },
    "outputId": "8d2737c0-c085-440c-80c7-59a037302893"
   },
   "source": [
    "def test_translate_markdown():\n",
    "\n",
    "    markdown_with_link = \"\"\"It's based on research in to deep learning best practices undertaken at [fast.ai](http://www.fast.ai), including \"out of the box\" support for [`vision`](/vision.html#vision), [`text`](/text.html#text), [`tabular`](/tabular.html#tabular), and [`collab`](/collab.html#collab)(collaborative filtering) models. If you're looking for the source code, head over to the [fastai repo](https://github.com/fastai/fastai) on GitHub. For brief examples, see the [examples](https://github.com/fastai/fastai/tree/master/examples) folder; detailed examples are provided in the full documentation (see the sidebar). For example, here's how to train an MNIST model using [resnet18](https://arxiv.org/abs/1512.03385) (from the [vision example](https://github.com/fastai/fastai/blob/master/examples/vision.ipynb)):\"\"\"\n",
    "\n",
    "    markdown_with_code = \"\"\"In general, for interactive computing, to just play around the core modules and the training loop you can do\n",
    "\n",
    "```\n",
    "from fastai.vision import *\n",
    "from fastai.core import *\n",
    "from fastai.basics import *\n",
    "```\n",
    "\n",
    "\"\"\"\n",
    "\n",
    "    texts = ['### Hello',  '# Hello', '![img_name](img.png)', '## Hello', '##Hey you', markdown_with_link, markdown_with_code]\n",
    "\n",
    "    for t in texts:\n",
    "        print(translate_markdown(t))\n",
    "\n",
    "test_translate_markdown()"
   ],
   "execution_count": 18,
   "outputs": [
    {
     "output_type": "stream",
     "text": [
      "### Olá\n",
      "# Olá\n",
      "![img_name](img.png)\n",
      "## Olá\n",
      "##ei você\n",
      "É baseado em pesquisa para profundas melhores práticas de aprendizagem empreendidas a [fast.ai](http://www.fast.ai), incluindo \"fora da caixa\" suporte para [`vision`](/vision.html#vision), [`text`](/text.html#text), [`tabular`](/tabular.html#tabular) e [`collab`](/collab.html#collab) (filtragem colaborativa) modelos. Se você está procurando o código fonte, de cabeça para o [fastai repo](https://github.com/fastai/fastai) no GitHub. Por breves exemplos, ver a pasta [examples](https://github.com/fastai/fastai/tree/master/examples); exemplos detalhados são fornecidos na documentação completa (veja o quadro). Por exemplo, aqui está como treinar um modelo MNIST usando [resnet18](https://arxiv.org/abs/1512.03385) (do [vision example](https://github.com/fastai/fastai/blob/master/examples/vision.ipynb)):\n",
      "Em geral, para computação interativa, jogar apenas em torno dos módulos principais eo loop treinamento que você pode fazer\n",
      "\n",
      "```\n",
      "from fastai.vision import *\n",
      "from fastai.core import *\n",
      "from fastai.basics import *\n",
      "```\n",
      "\n"
     ],
     "name": "stdout"
    }
   ]
  },
  {
   "cell_type": "code",
   "metadata": {
    "id": "wU-DlXqidT50",
    "colab_type": "code",
    "colab": {}
   },
   "source": [],
   "execution_count": 0,
   "outputs": []
  },
  {
   "cell_type": "code",
   "metadata": {
    "id": "MI-x09JUdFEp",
    "colab_type": "code",
    "colab": {}
   },
   "source": [],
   "execution_count": 0,
   "outputs": []
  },
  {
   "cell_type": "markdown",
   "metadata": {
    "id": "Lh6VciTsObWO",
    "colab_type": "text"
   },
   "source": [
    "## Test Jupyter Translate"
   ]
  },
  {
   "cell_type": "code",
   "metadata": {
    "id": "UFp8ilNBQI9V",
    "colab_type": "code",
    "colab": {}
   },
   "source": [
    "#export\n",
    "def jupyter_translate_old(fname, language='pt', rename_source_file=False, print_translation=False):\n",
    "    data_translated = json.load(open(fname, 'r'))\n",
    "\n",
    "    for i in range(len(data_translated['cells'])):\n",
    "        for j in range(len(data_translated['cells'][i]['source'])):\n",
    "            if data_translated['cells'][i]['cell_type']=='markdown':\n",
    "                data_translated['cells'][i]['source'][j] = \\\n",
    "                  translate_markdown(data_translated['cells'][i]['source'][j], dest_language=language)\n",
    "            if print_translation:\n",
    "                print(data_translated['cells'][i]['source'][j])\n",
    "\n",
    "    if rename_source_file:\n",
    "        fname_bk = f\"{'.'.join(fname.split('.')[:-1])}_bk.ipynb\" # index.ipynb -> index_bk.ipynb\n",
    "        \n",
    "        os.rename(fname, fname_bk)\n",
    "        print(f'{fname} was renamed into {fname_bk}')\n",
    "        \n",
    "        open(fname,'w').write(json.dumps(data_translated))\n",
    "        print(f'The {language} translation was stored in {fname}')\n",
    "    else:\n",
    "        dest_fname = f\"{'.'.join(fname.split('.')[:-1])}_{language}.ipynb\" # any.name.ipynb -> any.name_pt.ipynb\n",
    "        open(dest_fname,'w').write(json.dumps(data_translated))\n",
    "        print(f'The {language} translation was stored in {dest_fname}')"
   ],
   "execution_count": 0,
   "outputs": []
  },
  {
   "cell_type": "code",
   "metadata": {
    "id": "RVlF-6mo3Ncx",
    "colab_type": "code",
    "colab": {}
   },
   "source": [
    "#export\n",
    "def jupyter_translate(fname, language='pt', rename_source_file=False, print_translation=False):\n",
    "    data_translated = json.load(open(fname, 'r'))\n",
    "    \n",
    "    skip_row=False\n",
    "    for i, cell in enumerate(data_translated['cells']):\n",
    "        for j, source in enumerate(cell['source']):\n",
    "            if cell['cell_type']=='markdown':\n",
    "                if source[:3]=='```':\n",
    "                    skip_row = not skip_row # Invert flag until I find next code block\n",
    "\n",
    "                if not skip_row:\n",
    "                    if source not in ['```\\n', '```', '\\n'] and source[:4] != '<img':  # Don't translate cause\n",
    "                    # of: 1. ``` -> ëëë 2. '\\n' disappeared 3. image's links damaged\n",
    "                        data_translated['cells'][i]['source'][j] = \\\n",
    "                            translate_markdown(source, dest_language=language)\n",
    "            if print_translation:\n",
    "                print(data_translated['cells'][i]['source'][j])\n",
    "\n",
    "    if rename_source_file:\n",
    "        fname_bk = f\"{'.'.join(fname.split('.')[:-1])}_bk.ipynb\" # index.ipynb -> index_bk.ipynb\n",
    "        \n",
    "        os.rename(fname, fname_bk)\n",
    "        print(f'{fname} was renamed into {fname_bk}')\n",
    "        \n",
    "        open(fname,'w').write(json.dumps(data_translated))\n",
    "        print(f'The {language} translation has been saved as {fname}')\n",
    "    else:\n",
    "        dest_fname = f\"{'.'.join(fname.split('.')[:-1])}_{language}.ipynb\" # any.name.ipynb -> any.name_pt.ipynb\n",
    "        open(dest_fname,'w').write(json.dumps(data_translated))\n",
    "        print(f'The {language} translation has been saved as {dest_fname}')"
   ],
   "execution_count": 0,
   "outputs": []
  },
  {
   "cell_type": "code",
   "metadata": {
    "id": "RqUXrLyZ4No2",
    "colab_type": "code",
    "colab": {
     "base_uri": "https://localhost:8080/",
     "height": 1000
    },
    "outputId": "0f821961-59eb-4d12-ef70-7476b8bf0aae"
   },
   "source": [
    "#!wget https://github.com/WittmannF/fastai/raw/master/docs_src/index.ipynb\n",
    "jupyter_translate('index.ipynb', print_translation=True)"
   ],
   "execution_count": 36,
   "outputs": [
    {
     "output_type": "stream",
     "text": [
      "# Bem-vindo ao fastai\n",
      "from fastai.vision import *\n",
      "\n",
      "from fastai.gen_doc.nbdoc import *\n",
      "\n",
      "from fastai.core import *\n",
      "\n",
      "from fastai.basic_train import *\n",
      "A biblioteca fastai simplifica o treinamento de redes neurais rápidos e precisos utilizando as melhores práticas modernas. É baseado em pesquisa para profundas melhores práticas de aprendizagem empreendidas a [fast.ai](http://www.fast.ai), incluindo \"fora da caixa\" suporte para [`vision`](/vision.html#vision), [`text`](/text.html#text), [`tabular`](/tabular.html#tabular) e [`collab`](/collab.html#collab) (filtragem colaborativa) modelos. Se você está procurando o código fonte, de cabeça para o [fastai repo](https://github.com/fastai/fastai) no GitHub. Por breves exemplos, ver a pasta [examples](https://github.com/fastai/fastai/tree/master/examples); exemplos detalhados são fornecidos na documentação completa (veja o quadro). Por exemplo, aqui está como treinar um modelo MNIST usando [resnet18](https://arxiv.org/abs/1512.03385) (do [vision example](https://github.com/fastai/fastai/blob/master/examples/vision.ipynb)):\n",
      "path = untar_data(URLs.MNIST_SAMPLE)\n",
      "\n",
      "data = ImageDataBunch.from_folder(path)\n",
      "\n",
      "learn = cnn_learner(data, models.resnet18, metrics=accuracy)\n",
      "\n",
      "learn.fit(1)\n",
      "jekyll_note(\"\"\"This documentation is all built from notebooks;\n",
      "\n",
      "that means that you can try any of the code you see in any notebook yourself!\n",
      "\n",
      "You'll find the notebooks in the <a href=\"https://github.com/fastai/fastai/tree/master/docs_src\">docs_src</a> folder of the\n",
      "\n",
      "<a href=\"https://github.com/fastai/fastai\">fastai</a> repo. For instance,\n",
      "\n",
      "<a href=\"https://nbviewer.jupyter.org/github/fastai/fastai/blob/master/docs_src/index.ipynb\">here</a>\n",
      "\n",
      "is the notebook source of what you're reading now.\"\"\")\n",
      "## Instalação e atualização\n",
      "Para instalar ou atualizar fastai, recomendamos `conda`:\n",
      "\n",
      "\n",
      "```\n",
      "\n",
      "conda install -c pytorch -c fastai fastai \n",
      "\n",
      "```\n",
      "\n",
      "Para solução de problemas e instalações alternativas (incluindo as opções de PIP e só CPU) ver a [fastai readme](https://github.com/fastai/fastai/blob/master/README.md).\n",
      "## Lendo os docs\n",
      "Para começar rapidamente, clique * Aplicações * na barra lateral, e em seguida, escolha o aplicativo que você está interessado. Isso vai levá-lo para um passeio através de treinamento de um modelo desse tipo. Você pode então explorar as várias ligações a partir de lá, ou mergulhar mais profundamente os vários módulos fastai.\n",
      "\n",
      "\n",
      "Nós fornecemos abaixo um breve resumo dos principais módulos nesta biblioteca. Para detalhes sobre cada uma, use a barra lateral para encontrar o módulo que você está interessado. Cada módulo inclui uma visão geral e exemplo de como usá-lo, juntamente com a documentação para cada classe, função e método. documentação da API parece, por exemplo, como este:\n",
      "\n",
      "\n",
      "### Um exemplo de função\n",
      "show_doc(rotate, full_name='rotate')\n",
      "---\n",
      "\n",
      "\n",
      "Tipos para cada parâmetro, e o tipo de retorno, são apresentados a seguir [type hint syntax](https://www.python.org/dev/peps/pep-0484/) Python padrão. Às vezes, para os tipos de compostos que usamos [type variables](/fastai_typing.html). Tipos que são definidos por fastai ou link Pytorch diretamente para obter mais informações sobre esse tipo; experimente clicar * Imagem * na função acima para um exemplo. O docstring para o símbolo é mostrado imediatamente após a assinatura, juntamente com um link para o código-fonte para o símbolo no GitHub. Após a assinatura básica e DocString você encontrará exemplos e detalhes adicionais (não mostrados neste exemplo). Como você verá no topo da página, todos os símbolos documentados como esta também aparecem na tabela de conteúdos.\n",
      "\n",
      "\n",
      "Por classes herdadas e alguns tipos de função decorado, a classe ou tipo de base decorador também será mostrado no fim da assinatura, delimitado por `` ::. Para `vision.transforms`, o gerador de números aleatórios utilizados para o aumento de dados é mostrado em vez do tipo, para os parâmetros gerados aleatoriamente.\n",
      "## estrutura de módulo\n",
      "### importações\n",
      "fastai é projetado para suportar tanto computação interativa, bem como o desenvolvimento de software tradicional. Para computação interativa, onde a conveniência e velocidade de experimentação é uma prioridade, os cientistas de dados muitas vezes preferem pegar todos os símbolos que eles precisam, com `import *`. Portanto, fastai foi concebido para apoiar esta abordagem, sem comprometer a capacidade de manutenção e compreensão.\n",
      "\n",
      "\n",
      "A fim de fazer isso, as dependências do módulo são cuidadosamente controlado (ver secção seguinte), com cada exportação de um conjunto de símbolos escolhidos com cuidado quando se utiliza `importação *`. Em geral, para computação interativa, jogar apenas em torno dos módulos principais eo loop treinamento que você pode fazer\n",
      "\n",
      "\n",
      "```\n",
      "\n",
      "from fastai.basics import *\n",
      "\n",
      "```\n",
      "\n",
      "\n",
      "Se você quiser experimentar um dos aplicativos * * tais como visão, então você pode fazer\n",
      "\n",
      "\n",
      "```\n",
      "\n",
      "from fastai.vision import *\n",
      "\n",
      "```\n",
      "Isso lhe dará todos os módulos padrão externos que você precisa, em seus namespaces habituais (por exemplo `pandas como pd`,` numpy como np`, `matplotlib.pyplot como plt`), além do núcleo bibliotecas fastai. Além disso, as principais classes e funções para a sua aplicação ([`fastai.vision`](/vision.html#vision), neste caso), por exemplo, a criação de um [`DataBunch`](/basic_data.html#DataBunch) de uma pasta de imagem e treinamento de uma rede neural convolutional (com [`cnn_learner`](/vision.learner.html#cnn_learner)), também são importados. Se você não deseja importar qualquer aplicação, mas quero que todos a principal funcionalidade do fastai, use `de fastai.basics importar *`. Claro, você também pode simplesmente importar os símbolos específicos que você precisa, sem o uso de `import *`.\n",
      "\n",
      "\n",
      "Se você deseja ver onde um símbolo é importado do, ou apenas digite o nome do símbolo (em um REPL como Jupyter Notebook ou IPython), ou (na maioria dos editores) Onda o mouse sobre o símbolo para ver a definição. Por exemplo:\n",
      "Learner\n",
      "### dependências\n",
      "Na base de tudo são os dois módulos [`core`](/core.html#core) e [`torch_core`](/torch_core.html#torch_core) (não estamos incluindo o `prefixo fastai.` ao nomear módulos nestes docs). Eles definem as funções básicas que usamos na biblioteca; [`core`](/core.html#core) só se baseia em módulos gerais, enquanto [`torch_core`](/torch_core.html#torch_core) requer pytorch. A maioria dos atalhos-insinuando tipo são definidas lá também (pelo menos aquele que não dependem de aulas fastai definidos mais tarde). Quase todos os módulos abaixo [`torch_core`](/torch_core.html#torch_core) importação.\n",
      "\n",
      "\n",
      "Então, há três módulos diretamente em cima de [`torch_core`](/torch_core.html#torch_core):\n",
      "\n",
      "- [`basic_data`](/basic_data.html#basic_data), que contém a classe que vai demorar um [`Dataset`](https://pytorch.org/docs/stable/data.html#torch.utils.data.Dataset) ou pytorch [`DataLoader`](https://pytorch.org/docs/stable/data.html#torch.utils.data.DataLoader) para envolvê-lo em uma [`DeviceDataLoader`](/basic_data.html#DeviceDataLoader) (uma classe que fica no topo de uma [`DataLoader`](https://pytorch.org/docs/stable/data.html#torch.utils.data.DataLoader) e é responsável por colocar os dados no dispositivo de direito, bem como aplicar transformações tais como normalização) e, em seguida, em reagrupar um [`DataBunch`](/basic_data.html#DataBunch).\n",
      "\n",
      "- [`layers`](/layers.html#layers), o qual contém funções básicas para definir camadas de mercadorias ou grupos de camadas\n",
      "\n",
      "- [`metrics`](/metrics.html#metrics), que contém todas as métricas\n",
      "\n",
      "\n",
      "Este cuida dos princípios básicos, então se reagrupar um modelo com alguns dados em um objeto [`Learner`](/basic_train.html#Learner) cuidar de treinamento. Mais especificamente:\n",
      "\n",
      "- [`callback`](/callback.html#callback) (depende [`basic_data`](/basic_data.html#basic_data)) define a base de retornos de chamada e o [`CallbackHandler`](/callback.html#CallbackHandler). Essas são funções que serão chamadas a cada passo do caminho do circuito de formação e pode nos permitem personalizar o que está acontecendo lá;\n",
      "\n",
      "- [`basic_train`](/basic_train.html#basic_train) (depende [`callback`](/callback.html#callback)) define [`Learner`](/basic_train.html#Learner) e [`Recorder`](/basic_train.html#Recorder) (que é um callback que registra estatísticas de formação) e tem o circuito de formação;\n",
      "\n",
      "- [`callbacks`](/callbacks.html#callbacks) (depende [`basic_train`](/basic_train.html#basic_train)) é um sub-módulo definindo vários retornos de chamada, como por formação de precisão mista ou recozimento 1 ciclo;\n",
      "\n",
      "- [`train`](/train.html#train) (depende [`callbacks`](/callbacks.html#callbacks)) define funções auxiliares para invocar as chamadas de retorno mais facilmente.\n",
      "\n",
      "\n",
      "De [`basic_data`](/basic_data.html#basic_data) podemos dividir em um dos quatro principais aplicações * *, que cada um tem seu próprio módulo: [`vision`](/vision.html#vision), [`text`](/text.html#text) [`collab`](/collab.html#collab), ou [`tabular`](/tabular.html#tabular). Cada um desses sub-módulos é construído da mesma forma com:\n",
      "\n",
      "- um sub-módulo chamado <code> transformar </ code> que lida com as transformações dos nossos dados (aumento de dados para a visão de computador, numericalizing e tokenizing para texto e pré-processamento para tabular)\n",
      "\n",
      "- um sub-módulo chamado <code> dados </ code> que contém a classe que irá criar conjuntos de dados específicos para esta aplicação e as funções auxiliares para criar objetos [`DataBunch`](/basic_data.html#DataBunch).\n",
      "\n",
      "- um sub-módulo chamado <code> modelos </ code> que contém os modelos específicos para esta aplicação.\n",
      "\n",
      "- opcionalmente, um sub-módulo chamado <code> {aplicação} .learner </ code> que conterá [`Learner`](/basic_train.html#Learner) específica para a aplicação.\n",
      "\n",
      "\n",
      "Aqui está um gráfico das dependências principais do módulo:\n",
      "![Modules overview](imgs/dependencies.svg)\n",
      "The pt translation has been saved as index_pt.ipynb\n"
     ],
     "name": "stdout"
    }
   ]
  },
  {
   "cell_type": "markdown",
   "metadata": {
    "id": "9F50ZE8R8vW5",
    "colab_type": "text"
   },
   "source": [
    "## Mount GDrive and investigate file"
   ]
  },
  {
   "cell_type": "code",
   "metadata": {
    "id": "c3K6EQuh9GDu",
    "colab_type": "code",
    "colab": {
     "base_uri": "https://localhost:8080/",
     "height": 85
    },
    "outputId": "1da954d7-2e08-4b7f-b808-3d9709ace8b3"
   },
   "source": [
    "!pip install easycolab\n",
    "import easycolab as ec\n",
    "ec.mount()"
   ],
   "execution_count": 22,
   "outputs": [
    {
     "output_type": "stream",
     "text": [
      "Requirement already satisfied: easycolab in /usr/local/lib/python3.6/dist-packages (0.1b29)\n",
      "Drive already mounted at /content/gdrive; to attempt to forcibly remount, call drive.mount(\"/content/gdrive\", force_remount=True).\n",
      "Opening directory /content/gdrive/My Drive/\n",
      "Done!\n"
     ],
     "name": "stdout"
    }
   ]
  },
  {
   "cell_type": "code",
   "metadata": {
    "id": "kbhsERbv9GHi",
    "colab_type": "code",
    "colab": {
     "base_uri": "https://localhost:8080/",
     "height": 34
    },
    "outputId": "7f06ea8a-5624-4113-8c72-ddefde37b119"
   },
   "source": [
    "cd '_FASTAI'"
   ],
   "execution_count": 23,
   "outputs": [
    {
     "output_type": "stream",
     "text": [
      "/content/gdrive/My Drive/_FASTAI\n"
     ],
     "name": "stdout"
    }
   ]
  },
  {
   "cell_type": "code",
   "metadata": {
    "id": "FYJc5QLWQJPu",
    "colab_type": "code",
    "colab": {
     "base_uri": "https://localhost:8080/",
     "height": 85
    },
    "outputId": "bbbe04b3-b2c9-417c-b4df-6266098da838"
   },
   "source": [
    "ls"
   ],
   "execution_count": 24,
   "outputs": [
    {
     "output_type": "stream",
     "text": [
      " \u001B[0m\u001B[01;34mcourse-v3\u001B[0m/            \u001B[01;34mfastai-fork\u001B[0m/\n",
      " \u001B[01;34mfastai-dlpt2-notes\u001B[0m/   \u001B[01;34mLessons\u001B[0m/\n",
      " \u001B[01;34mfastai_docs\u001B[0m/          \u001B[01;34mnew_class_material\u001B[0m/\n",
      " \u001B[01;34mfastai_docs_ptbr\u001B[0m/    'Screen Shot 2019-04-10 at 18.01.23.png'\n"
     ],
     "name": "stdout"
    }
   ]
  },
  {
   "cell_type": "code",
   "metadata": {
    "id": "domete2zTFnG",
    "colab_type": "code",
    "outputId": "9f2ea186-b225-4a93-9831-144242a7d758",
    "colab": {
     "base_uri": "https://localhost:8080/",
     "height": 34
    }
   },
   "source": [
    "cd fastai-fork/"
   ],
   "execution_count": 25,
   "outputs": [
    {
     "output_type": "stream",
     "text": [
      "/content/gdrive/My Drive/_FASTAI/fastai-fork\n"
     ],
     "name": "stdout"
    }
   ]
  },
  {
   "cell_type": "code",
   "metadata": {
    "id": "IOEX5i5KOg0n",
    "colab_type": "code",
    "outputId": "97955c0e-d9a0-4eee-cd15-337f958b5caf",
    "colab": {
     "base_uri": "https://localhost:8080/",
     "height": 34
    }
   },
   "source": [
    "cd docs_src/pt-br"
   ],
   "execution_count": 26,
   "outputs": [
    {
     "output_type": "stream",
     "text": [
      "/content/gdrive/My Drive/_FASTAI/fastai-fork/docs_src/pt-br\n"
     ],
     "name": "stdout"
    }
   ]
  },
  {
   "cell_type": "code",
   "metadata": {
    "id": "0eRNlZNkOg8n",
    "colab_type": "code",
    "outputId": "6a3823c0-4168-41a6-8c8c-01b5f0d49523",
    "colab": {
     "base_uri": "https://localhost:8080/",
     "height": 646
    }
   },
   "source": [
    "ls"
   ],
   "execution_count": 29,
   "outputs": [
    {
     "output_type": "stream",
     "text": [
      " applications.ipynb              points.pth\n",
      " basic_data.ipynb                pytest.ini\n",
      " basic_train.ipynb               run_tests.sh\n",
      " callback.ipynb                  \u001B[0m\u001B[01;34msidebar\u001B[0m/\n",
      " callbacks.csv_logger.ipynb      tabular.data.ipynb\n",
      " callbacks.fp16.ipynb            tabular.ipynb\n",
      " callbacks.general_sched.ipynb   tabular.models.ipynb\n",
      " callbacks.hooks.ipynb           tabular.transform.ipynb\n",
      " callbacks.ipynb                 text.data.ipynb\n",
      " callbacks.lr_finder.ipynb       text.interpret.ipynb\n",
      " callbacks.mem.ipynb             text.ipynb\n",
      " callbacks.misc.ipynb            text.learner.ipynb\n",
      " callbacks.mixup.ipynb           text.models.ipynb\n",
      " callbacks.one_cycle.ipynb       text.transform.ipynb\n",
      " callbacks.rnn.ipynb             torch_core.ipynb\n",
      " callbacks.tensorboard.ipynb     training.ipynb\n",
      " callbacks.tracker.ipynb         train.ipynb\n",
      " collab.ipynb                    trustnbs.py\n",
      " conftest.py                     tutorial.data.ipynb\n",
      " core.ipynb                      tutorial.inference.ipynb\n",
      " data_block.ipynb                tutorial.itemlist.ipynb\n",
      " datasets.ipynb                  utils.collect_env.ipynb\n",
      " fastai_typing.ipynb             utils.ipython.ipynb\n",
      " gen_doc.convert2html.ipynb      utils.mem.ipynb\n",
      " gen_doc.gen_notebooks.ipynb     utils.mod_display.ipynb\n",
      " gen_doc.ipynb                   vision.data.ipynb\n",
      " gen_doc.nbdoc.ipynb             vision.gan.ipynb\n",
      " gen_doc.nbtest.ipynb            vision.image.ipynb\n",
      " imgs                            vision.interpret.ipynb\n",
      "'index (1).ipynb'                vision.ipynb\n",
      " jekyll_metadata.ipynb           vision.learner.ipynb\n",
      " \u001B[01;34mjs\u001B[0m/                             vision.models.ipynb\n",
      " jupyter_translate.py            vision.models.unet.ipynb\n",
      " layers.ipynb                    vision.transform.ipynb\n",
      " metrics.ipynb                   widgets.class_confusion.ipynb\n",
      " \u001B[01;34mnbval\u001B[0m/                          widgets.image_cleaner.ipynb\n",
      " overview.ipynb\n"
     ],
     "name": "stdout"
    }
   ]
  },
  {
   "cell_type": "code",
   "metadata": {
    "id": "PA6s77ySOg5L",
    "colab_type": "code",
    "colab": {}
   },
   "source": [
    "#!wget https://raw.githubusercontent.com/WittmannF/jupyter-translate/master/jupyter_translate.py"
   ],
   "execution_count": 0,
   "outputs": []
  },
  {
   "cell_type": "markdown",
   "metadata": {
    "id": "HnuT1nMYTcfl",
    "colab_type": "text"
   },
   "source": [
    "Now let's install the requirements and import the `jupyter_translate` module"
   ]
  },
  {
   "cell_type": "code",
   "metadata": {
    "id": "EkXdWlAYPNT0",
    "colab_type": "code",
    "outputId": "68ae1406-aa31-4f39-9bbd-075a337759c2",
    "colab": {
     "base_uri": "https://localhost:8080/",
     "height": 1000
    }
   },
   "source": [
    "jupyter_translate('index.ipynb', print_translation=True, language='fr')"
   ],
   "execution_count": 35,
   "outputs": [
    {
     "output_type": "stream",
     "text": [
      "# Bienvenue sur fastai\n",
      "from fastai.vision import *\n",
      "\n",
      "from fastai.gen_doc.nbdoc import *\n",
      "\n",
      "from fastai.core import *\n",
      "\n",
      "from fastai.basic_train import *\n",
      "La bibliothèque fastai simplifie la formation des réseaux neuronaux rapides et précises en utilisant les meilleures pratiques modernes. Il est basé sur la recherche dans les meilleures pratiques d'apprentissage profondes entreprises à [fast.ai](http://www.fast.ai), y compris « hors de la boîte » pour le soutien [`vision`](/vision.html#vision), [`text`](/text.html#text), [`tabular`](/tabular.html#tabular) et modèles [`collab`](/collab.html#collab) (filtrage collaboratif). Si vous cherchez le code source, la tête sur le [fastai repo](https://github.com/fastai/fastai) sur GitHub. Pour de brefs exemples, voir le dossier [examples](https://github.com/fastai/fastai/tree/master/examples); des exemples détaillés sont fournis dans la documentation complète (voir l'encadré). Par exemple, voici comment former un modèle en utilisant MNIST [resnet18](https://arxiv.org/abs/1512.03385) (du [vision example](https://github.com/fastai/fastai/blob/master/examples/vision.ipynb)):\n",
      "path = untar_data(URLs.MNIST_SAMPLE)\n",
      "\n",
      "data = ImageDataBunch.from_folder(path)\n",
      "\n",
      "learn = cnn_learner(data, models.resnet18, metrics=accuracy)\n",
      "\n",
      "learn.fit(1)\n",
      "jekyll_note(\"\"\"This documentation is all built from notebooks;\n",
      "\n",
      "that means that you can try any of the code you see in any notebook yourself!\n",
      "\n",
      "You'll find the notebooks in the <a href=\"https://github.com/fastai/fastai/tree/master/docs_src\">docs_src</a> folder of the\n",
      "\n",
      "<a href=\"https://github.com/fastai/fastai\">fastai</a> repo. For instance,\n",
      "\n",
      "<a href=\"https://nbviewer.jupyter.org/github/fastai/fastai/blob/master/docs_src/index.ipynb\">here</a>\n",
      "\n",
      "is the notebook source of what you're reading now.\"\"\")\n",
      "## Installation et mise à jour\n",
      "Pour installer ou mettre à jour fastai, nous vous recommandons `conda`:\n",
      "\n",
      "\n",
      "```\n",
      "\n",
      "conda install -c pytorch -c fastai fastai \n",
      "\n",
      "```\n",
      "\n",
      "Pour le dépannage et les installations de remplacement (y compris les options et pip CPU uniquement) voir le [fastai readme](https://github.com/fastai/fastai/blob/master/README.md).\n",
      "## Lecture de la documentation\n",
      "Pour commencer rapidement, cliquez sur * Applications * sur la barre latérale, puis choisissez l'application qui vous intéresse. Cela vous amène à un rendez-vous par le biais de la formation d'un modèle de ce type. Vous pouvez ensuite explorer soit les différents liens à partir de là, ou plonger plus profondément dans les différents modules fastai.\n",
      "\n",
      "\n",
      "Nous avons fourni ci-dessous un résumé rapide des modules clés dans cette bibliothèque. Pour plus de détails sur chacun, utilisez la barre latérale pour trouver le module qui vous intéresse. Chaque module comprend un aperçu et un exemple de la façon de l'utiliser, ainsi que la documentation pour chaque classe, la fonction et la méthode. documentation de l'API semble, par exemple, comme ceci:\n",
      "\n",
      "\n",
      "### Un exemple fonction\n",
      "show_doc(rotate, full_name='rotate')\n",
      "---\n",
      "\n",
      "\n",
      "Types pour chaque paramètre, et le type de retour, sont affichés ci-dessous [type hint syntax](https://www.python.org/dev/peps/pep-0484/) Python standard. Parfois, pour les types de composés que nous utilisons [type variables](/fastai_typing.html). Les types qui sont définis par fastai ou lien Pytorch directement plus d'informations sur ce type; essayez de cliquer * * image dans la fonction ci-dessus pour un exemple. Le docstring le symbole est affiché immédiatement après la signature, avec un lien vers le code source pour le symbole dans GitHub. Après la signature de base et vous docstring trouverez des exemples et des détails supplémentaires (non représentés dans cet exemple). Comme vous le verrez en haut de la page, tous les symboles documentés comme celui-ci apparaissent également dans la table des matières.\n",
      "\n",
      "\n",
      "Pour les classes héritées et certains types de fonction décorée, la classe de base ou le type de décorateur seront également présentés à la fin de la signature, délimitée par `` ::. Pour `vision.transforms`, le générateur de nombre aléatoire utilisé pour l'augmentation de données est affiché à la place du type de paramètres générés au hasard.\n",
      "## Module structure\n",
      "### Importations\n",
      "fastai est conçu pour soutenir à la fois l'informatique interactive ainsi que le développement de logiciels traditionnels. Pour l'informatique interactive, où la commodité et la rapidité de l'expérimentation est une priorité, les scientifiques de données préfèrent souvent saisir tous les symboles dont ils ont besoin, avec `` importation *. Par conséquent, fastai est conçu pour soutenir cette approche, sans compromettre la maintenabilité et la compréhension.\n",
      "\n",
      "\n",
      "Pour ce faire, les dépendances du module sont gérées avec soin (voir la section suivante), chaque exportation d'un ensemble soigneusement choisi des symboles lorsque vous utilisez `` importation *. En général, pour l'informatique interactive, juste jouer les modules de base et la boucle de formation que vous pouvez faire\n",
      "\n",
      "\n",
      "```\n",
      "\n",
      "from fastai.basics import *\n",
      "\n",
      "```\n",
      "\n",
      "\n",
      "Si vous voulez expérimenter avec l'une des applications * * telles que la vision, alors vous pouvez faire\n",
      "\n",
      "\n",
      "```\n",
      "\n",
      "from fastai.vision import *\n",
      "\n",
      "```\n",
      "Cela vous donnera tous les modules externes standard dont vous aurez besoin, dans leurs espaces de noms usuels (par exemple `pandas géants comme pd`,` numpy comme np`, `matplotlib.pyplot comme plt`), ainsi que le noyau de bibliothèques fastai. De plus, les classes et fonctions principales de votre application ([`fastai.vision`](/vision.html#vision), dans ce cas), par exemple la création d'un [`DataBunch`](/basic_data.html#DataBunch) à partir d'un dossier d'images et la formation d'un réseau neuronal convolutif (avec [`cnn_learner`](/vision.learner.html#cnn_learner)), sont également importées. Si vous ne souhaitez pas importer toute application, mais que vous voulez toutes les fonctionnalités principales de fastai, utilisez `de fastai.basics importer *`. Bien sûr, vous pouvez aussi simplement importer les symboles spécifiques dont vous avez besoin, sans utiliser `` importation *.\n",
      "\n",
      "\n",
      "Si vous souhaitez voir où un symbole est importé de, soit il suffit de taper le nom du symbole (dans un REPL tel que Jupyter Notebook ou IPython), ou (dans la plupart des éditeurs) onduler votre souris sur le symbole pour voir la définition. Par exemple:\n",
      "Learner\n",
      "### dépendances\n",
      "A la base de tout sont les deux modules [`core`](/core.html#core) et [`torch_core`](/torch_core.html#torch_core) (nous ne sommes pas compris le préfixe `fastai.` lorsque vous nommez des modules dans ces documents). Ils définissent les fonctions de base que nous utilisons dans la bibliothèque; [`core`](/core.html#core) se fie uniquement sur les modules généraux, alors que [`torch_core`](/torch_core.html#torch_core) nécessite pytorch. La plupart des raccourcis de type-il faisant allusion sont définis trop (au moins celui qui ne dépendent pas des classes fastai définies plus tard). Presque tous les modules ci-dessous [`torch_core`](/torch_core.html#torch_core) d'importation.\n",
      "\n",
      "\n",
      "Ensuite, il y a trois modules directement sur le dessus de [`torch_core`](/torch_core.html#torch_core):\n",
      "\n",
      "- [`basic_data`](/basic_data.html#basic_data), qui contient la classe qui aura un [`Dataset`](https://pytorch.org/docs/stable/data.html#torch.utils.data.Dataset) ou pytorch [`DataLoader`](https://pytorch.org/docs/stable/data.html#torch.utils.data.DataLoader) à l'envelopper dans un [`DeviceDataLoader`](/basic_data.html#DeviceDataLoader) (une classe qui se trouve au sommet d'un [`DataLoader`](https://pytorch.org/docs/stable/data.html#torch.utils.data.DataLoader) et est en charge de mettre les données sur le dispositif droit, ainsi que l'application de transformations telles que normalisation) et de se regrouper puis dans un [`DataBunch`](/basic_data.html#DataBunch).\n",
      "\n",
      "- [`layers`](/layers.html#layers), qui contient des fonctions de base pour définir des couches personnalisées ou groupes de couches\n",
      "\n",
      "- [`metrics`](/metrics.html#metrics), qui contient toutes les mesures\n",
      "\n",
      "\n",
      "Cela prend soin des bases, nous regroupons un modèle avec des données dans un objet [`Learner`](/basic_train.html#Learner) pour prendre soin de la formation. Plus précisement:\n",
      "\n",
      "- [`callback`](/callback.html#callback) (dépend de [`basic_data`](/basic_data.html#basic_data)) définit la base des callbacks et la [`CallbackHandler`](/callback.html#CallbackHandler). Ce sont des fonctions qui seront appelés à chaque étape du chemin de la boucle de formation et peut nous permettre de personnaliser ce qui se passe là-bas;\n",
      "\n",
      "- [`basic_train`](/basic_train.html#basic_train) (dépend de [`callback`](/callback.html#callback)) définit [`Learner`](/basic_train.html#Learner) et [`Recorder`](/basic_train.html#Recorder) (qui est une fonction de rappel qui enregistre les statistiques de formation) et la boucle d'entraînement;\n",
      "\n",
      "- [`callbacks`](/callbacks.html#callbacks) (dépend de [`basic_train`](/basic_train.html#basic_train)) est un sous-module définissant plusieurs rappels, par exemple pour la formation mixte de précision ou un recuit de 1 cycle;\n",
      "\n",
      "- [`train`](/train.html#train) (dépend [`callbacks`](/callbacks.html#callbacks)) définit les fonctions d'aide pour appeler les callbacks plus facilement.\n",
      "\n",
      "\n",
      "De [`basic_data`](/basic_data.html#basic_data) nous pouvons diviser sur l'une des quatre principales applications * *, dont chacun a son propre module: [`vision`](/vision.html#vision), [`text`](/text.html#text) [`collab`](/collab.html#collab) ou [`tabular`](/tabular.html#tabular). Chacun de ces sous-modules est construit de la même manière avec:\n",
      "\n",
      "- un sous-module nommé <code> transformer </ code> qui gère les transformations de nos données (augmentation des données pour la vision informatique, numericalizing et tokenizing pour le texte et Prétraitement sous forme de tableau)\n",
      "\n",
      "- un sous-module nommé <code> données </ code> qui contient la classe qui va créer des ensembles de données spécifiques à cette application et les fonctions d'aide pour créer des objets [`DataBunch`](/basic_data.html#DataBunch).\n",
      "\n",
      "- un sous-module nommé <code> modèles </ code> qui contient les modèles spécifiques à cette application.\n",
      "\n",
      "- le cas échéant, un sous-module nommé <code> {application} .learner </ code> qui contiendra [`Learner`](/basic_train.html#Learner) spécifiques à l'application.\n",
      "\n",
      "\n",
      "Voici un graphique des dépendances de modules clés:\n",
      "![Modules overview](imgs/dependencies.svg)\n",
      "The fr translation has been saved as index_fr.ipynb\n"
     ],
     "name": "stdout"
    }
   ]
  },
  {
   "cell_type": "code",
   "metadata": {
    "id": "g8iG_zzj2fHG",
    "colab_type": "code",
    "colab": {}
   },
   "source": [],
   "execution_count": 0,
   "outputs": []
  }
 ]
}

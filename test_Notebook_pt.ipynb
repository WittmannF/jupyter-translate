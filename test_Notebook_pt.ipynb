{
 "cells": [
  {
   "cell_type": "markdown",
   "id": "52e956c0",
   "metadata": {},
   "source": [
    "# Introdução ao Python\n",
    "\n",
    "Este notebook irá guiá-lo pelos fundamentos da programação em Python. Vamos explorar variáveis, tipos de dados, listas, loops, e funções."
   ]
  },
  {
   "cell_type": "markdown",
   "id": "1df54aba",
   "metadata": {},
   "source": [
    "## 1. Variáveis e Tipos de Dados\n",
    "\n",
    "Em Python, podemos armazenar dados em variáveis. As variáveis podem conter diferentes tipos de dados, como inteiros, floats (números decimais), strings (texto), e booleanos (verdadeiro ou falso)."
   ]
  },
  {
   "cell_type": "code",
   "execution_count": null,
   "id": "7f322fd0",
   "metadata": {},
   "outputs": [],
   "source": [
    "# Declarando variáveis de diferentes tipos\n",
    "idade = 25  # Inteiro\n",
    "altura = 1.75  # Float\n",
    "nome = \"João\"  # String\n",
    "estudante = True  # Booleano\n",
    "\n",
    "# Imprimindo os valores das variáveis\n",
    "print(f\"Idade: {idade} anos\")\n",
    "print(f\"Altura: {altura} metros\")\n",
    "print(f\"Nome: {nome}\")\n",
    "print(f\"Estudante: {estudante}\")"
   ]
  },
  {
   "cell_type": "markdown",
   "id": "b8ab2192",
   "metadata": {},
   "source": [
    "## 2. Operações Matemáticas\n",
    "\n",
    "Python permite realizar operações matemáticas básicas, como adição, subtração, multiplicação, e divisão."
   ]
  },
  {
   "cell_type": "code",
   "execution_count": null,
   "id": "f9f46509",
   "metadata": {},
   "outputs": [],
   "source": [
    "# Realizando operações matemáticas\n",
    "a = 10\n",
    "b = 3\n",
    "\n",
    "soma = a + b  # Adição\n",
    "subtracao = a - b  # Subtração\n",
    "multiplicacao = a * b  # Multiplicação\n",
    "divisao = a / b  # Divisão\n",
    "\n",
    "# Imprimindo os resultados\n",
    "print(f\"Soma: {soma}\")\n",
    "print(f\"Subtração: {subtracao}\")\n",
    "print(f\"Multiplicação: {multiplicacao}\")\n",
    "print(f\"Divisão: {divisao}\")"
   ]
  },
  {
   "cell_type": "markdown",
   "id": "5db1f397",
   "metadata": {},
   "source": [
    "## 3. Listas\n",
    "\n",
    "Uma lista é uma coleção de itens que pode armazenar múltiplos valores em uma única variável. As listas são muito úteis para armazenar sequências de dados."
   ]
  },
  {
   "cell_type": "code",
   "execution_count": null,
   "id": "d6130bd9",
   "metadata": {},
   "outputs": [],
   "source": [
    "# Criando uma lista de frutas\n",
    "frutas = [\"maçã\", \"banana\", \"laranja\", \"uva\"]\n",
    "\n",
    "# Adicionando um item à lista\n",
    "frutas.append(\"manga\")\n",
    "\n",
    "# Imprimindo a lista\n",
    "print(\"Lista de frutas:\", frutas)\n",
    "\n",
    "# Acessando um item específico\n",
    "print(\"Primeira fruta da lista:\", frutas[0])  # Índice começa em 0"
   ]
  },
  {
   "cell_type": "markdown",
   "id": "ed742e3b",
   "metadata": {},
   "source": [
    "## 4. Loops\n",
    "\n",
    "Loops permitem que você execute uma série de comandos repetidamente. O loop `for` em Python é frequentemente usado para iterar sobre uma sequência (como uma lista ou string)."
   ]
  },
  {
   "cell_type": "code",
   "execution_count": null,
   "id": "777d5025",
   "metadata": {},
   "outputs": [],
   "source": [
    "# Usando um loop for para iterar sobre uma lista\n",
    "for fruta in frutas:\n",
    "    print(f\"Fruta: {fruta}\")"
   ]
  },
  {
   "cell_type": "markdown",
   "id": "51fc3faf",
   "metadata": {},
   "source": [
    "## 5. Funções\n",
    "\n",
    "Funções são blocos de código reutilizáveis que realizam uma tarefa específica. Você pode definir suas próprias funções em Python usando a palavra-chave `def`."
   ]
  },
  {
   "cell_type": "code",
   "execution_count": null,
   "id": "e8510327",
   "metadata": {},
   "outputs": [],
   "source": [
    "# Definindo uma função que soma dois números\n",
    "def soma_numeros(x, y):\n",
    "    return x + y\n",
    "\n",
    "# Usando a função\n",
    "resultado = soma_numeros(10, 5)\n",
    "print(f\"Resultado da soma: {resultado}\")"
   ]
  }
 ],
 "metadata": {
  "kernelspec": {
   "display_name": "Python 3 (ipykernel)",
   "language": "python",
   "name": "python3"
  },
  "language_info": {
   "codemirror_mode": {
    "name": "ipython",
    "version": 3
   },
   "file_extension": ".py",
   "mimetype": "text/x-python",
   "name": "python",
   "nbconvert_exporter": "python",
   "pygments_lexer": "ipython3",
   "version": "3.12.5"
  }
 },
 "nbformat": 4,
 "nbformat_minor": 5
}
